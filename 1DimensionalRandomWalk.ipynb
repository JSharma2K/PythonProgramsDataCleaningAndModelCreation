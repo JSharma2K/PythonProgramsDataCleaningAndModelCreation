{
 "cells": [
  {
   "cell_type": "code",
   "execution_count": 3,
   "metadata": {},
   "outputs": [
    {
     "name": "stdout",
     "output_type": "stream",
     "text": [
      "Steps taken to the right: 508\n",
      "Steps taken to the left: 492\n",
      "total distance travelled : 1000\n",
      "total Displacment: 16\n",
      "Steps taken to the right: 497\n",
      "Steps taken to the left: 503\n",
      "total distance travelled : 1000\n",
      "total Displacment: -6\n",
      "Steps taken to the right: 493\n",
      "Steps taken to the left: 507\n",
      "total distance travelled : 1000\n",
      "total Displacment: -14\n",
      "Steps taken to the right: 486\n",
      "Steps taken to the left: 514\n",
      "total distance travelled : 1000\n",
      "total Displacment: -28\n",
      "Steps taken to the right: 514\n",
      "Steps taken to the left: 486\n",
      "total distance travelled : 1000\n",
      "total Displacment: 28\n",
      "Steps taken to the right: 474\n",
      "Steps taken to the left: 526\n",
      "total distance travelled : 1000\n",
      "total Displacment: -52\n",
      "Steps taken to the right: 514\n",
      "Steps taken to the left: 486\n",
      "total distance travelled : 1000\n",
      "total Displacment: 28\n",
      "Steps taken to the right: 537\n",
      "Steps taken to the left: 463\n",
      "total distance travelled : 1000\n",
      "total Displacment: 74\n",
      "Steps taken to the right: 505\n",
      "Steps taken to the left: 495\n",
      "total distance travelled : 1000\n",
      "total Displacment: 10\n",
      "Steps taken to the right: 500\n",
      "Steps taken to the left: 500\n",
      "total distance travelled : 1000\n",
      "total Displacment: 0\n",
      "[16, -6, -14, -28, 28, -52, 28, 74, 10, 0]\n"
     ]
    },
    {
     "data": {
      "image/png": "[encoded data removed]",
      "text/plain": [
       "<matplotlib.figure.Figure at 0x21f9cd680f0>"
      ]
     },
     "metadata": {},
     "output_type": "display_data"
    }
   ],
   "source": [
    "import random\n",
    "import numpy as np\n",
    "import matplotlib.pyplot as plt\n",
    "def RandomWalk(steps):\n",
    "    rightCounter=0\n",
    "    leftCounter=0\n",
    "    PossibleSteps=[-1,1]\n",
    "    for i in range(steps):\n",
    "        StepTaken=random.choice(PossibleSteps)\n",
    "        if StepTaken==1:\n",
    "            rightCounter+=1\n",
    "        else:\n",
    "            leftCounter+=1\n",
    "    StepsRight=np.ones(rightCounter)\n",
    "    StepsLeft=np.zeros(leftCounter)\n",
    "    Displacement=len(StepsRight)-len(StepsLeft)\n",
    "    print(\"Steps taken to the right:\",rightCounter)\n",
    "    print(\"Steps taken to the left:\",leftCounter)\n",
    "    print(\"total distance travelled :\",rightCounter+leftCounter)\n",
    "    print(\"total Displacment:\",Displacement)\n",
    "    return(Displacement)\n",
    "\n",
    "def Average(NoOfNNumberedWalks):\n",
    "    ListOfDisplacements=[]\n",
    "    for i in range(NoOfNNumberedWalks):\n",
    "        ListOfDisplacements.append(RandomWalk(1000))\n",
    "    print(ListOfDisplacements)\n",
    "    \n",
    "    for i in range(len(ListOfDisplacements)-1):\n",
    "        Total=ListOfDisplacements[i]+ListOfDisplacements[i-1]+ListOfDisplacements[i+1]\n",
    "    \n",
    "    average=[]\n",
    "    for i in range(1000):\n",
    "        displacements=0\n",
    "        for j in range(1000):\n",
    "            displacements+=np.random.choice(ListOfDisplacements)\n",
    "        average.append(displacements/1000)\n",
    "    return average\n",
    "    \n",
    "    #print(\"Average Distance Travelled in \",NoOfNNumberedWalks,\"1000 RandomWalks is: \",(Total/NoOfNNumberedWalks))\n",
    "    \n",
    "a=Average(10)\n",
    "plt.hist(a,bins=25)\n",
    "plt.show()\n",
    "\n",
    "    \n",
    "            \n",
    "        "
   ]
  },
  {
   "cell_type": "code",
   "execution_count": null,
   "metadata": {
    "collapsed": true
   },
   "outputs": [],
   "source": []
  }
 ],
 "metadata": {
  "kernelspec": {
   "display_name": "Python 3",
   "language": "python",
   "name": "python3"
  },
  "language_info": {
   "codemirror_mode": {
    "name": "ipython",
    "version": 3
   },
   "file_extension": ".py",
   "mimetype": "text/x-python",
   "name": "python",
   "nbconvert_exporter": "python",
   "pygments_lexer": "ipython3",
   "version": "3.6.1"
  }
 },
 "nbformat": 4,
 "nbformat_minor": 2
}

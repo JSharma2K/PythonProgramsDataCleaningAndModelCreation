{
 "cells": [
  {
   "cell_type": "code",
   "execution_count": 1,
   "metadata": {},
   "outputs": [
    {
     "data": {
      "text/plain": [
       "3.1564"
      ]
     },
     "execution_count": 1,
     "metadata": {},
     "output_type": "execute_result"
    }
   ],
   "source": [
    "import random\n",
    "import numpy as np\n",
    "import math\n",
    "def BuffonsNeedle(n):\n",
    "    AreaOfSquare=4\n",
    "    Circle_x=[]\n",
    "    Circle_y=[]\n",
    "    Square_x=[]\n",
    "    Square_y=[]\n",
    "    for i in range(n):\n",
    "        x_point=random.uniform(-1,1)\n",
    "        y_point=random.uniform(-1,1)\n",
    "        if math.sqrt((x_point**2)+(y_point**2))<=1:\n",
    "            Circle_x.append(x_point)\n",
    "            Circle_y.append(y_point)\n",
    "        else:\n",
    "            Square_x.append(x_point)\n",
    "            Square_y.append(y_point)\n",
    "    pi=4*(len(Circle_x)/(len(Square_x)+len(Circle_x)))\n",
    "    return pi\n",
    "\n",
    "        \n",
    "BuffonsNeedle(10000)        "
   ]
  },
  {
   "cell_type": "code",
   "execution_count": null,
   "metadata": {
    "collapsed": true
   },
   "outputs": [],
   "source": []
  }
 ],
 "metadata": {
  "kernelspec": {
   "display_name": "Python 3",
   "language": "python",
   "name": "python3"
  },
  "language_info": {
   "codemirror_mode": {
    "name": "ipython",
    "version": 3
   },
   "file_extension": ".py",
   "mimetype": "text/x-python",
   "name": "python",
   "nbconvert_exporter": "python",
   "pygments_lexer": "ipython3",
   "version": "3.6.1"
  }
 },
 "nbformat": 4,
 "nbformat_minor": 2
}

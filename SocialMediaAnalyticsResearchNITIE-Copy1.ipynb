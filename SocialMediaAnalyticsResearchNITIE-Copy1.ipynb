{
 "cells": [
  {
   "cell_type": "code",
   "execution_count": 1,
   "metadata": {},
   "outputs": [],
   "source": [
    "import pandas as pd\n",
    "import numpy as np\n",
    "import matplotlib.pyplot as plt\n",
    "import sklearn \n",
    "from sklearn.datasets import load_boston \n"
   ]
  },
  {
   "cell_type": "code",
   "execution_count": 211,
   "metadata": {},
   "outputs": [
    {
     "name": "stdout",
     "output_type": "stream",
     "text": [
      "<class 'pandas.core.frame.DataFrame'>\n",
      "RangeIndex: 8355 entries, 0 to 8354\n",
      "Data columns (total 14 columns):\n",
      "TERRITORY                   8355 non-null object\n",
      "CONSTITUENCY                8355 non-null object\n",
      "CANDIDATE                   8355 non-null object\n",
      "SEX                         7845 non-null object\n",
      "AGE                         7845 non-null float64\n",
      "CATEGORY                    7845 non-null object\n",
      "PARTY                       8355 non-null object\n",
      "PARTY SYMBOL                8355 non-null object\n",
      "GENERALVOTESSECURED         8355 non-null int64\n",
      "POSTALVOTESSECURED          8355 non-null int64\n",
      "TOTALVOTESSECURED           8355 non-null int64\n",
      "PERCENTAGEOFTOTALVOTES      8355 non-null float64\n",
      "PERCENTAGEOFTOTAL POLLED    8355 non-null float64\n",
      "TOTALELECTORS               8355 non-null int64\n",
      "dtypes: float64(3), int64(4), object(7)\n",
      "memory usage: 913.9+ KB\n"
     ]
    },
    {
     "data": {
      "text/plain": [
       "0              TRS\n",
       "1              INC\n",
       "2              TDP\n",
       "3              BSP\n",
       "4              IND\n",
       "5              IND\n",
       "6              IND\n",
       "7              IND\n",
       "8             NOTA\n",
       "9              TDP\n",
       "10             BSP\n",
       "11             TRS\n",
       "12             INC\n",
       "13            PPOI\n",
       "14             RPI\n",
       "15            BCUF\n",
       "16             NIP\n",
       "17            MaSP\n",
       "18           RP(K)\n",
       "19             IND\n",
       "20             IND\n",
       "21             IND\n",
       "22             IND\n",
       "23             IND\n",
       "24             IND\n",
       "25             IND\n",
       "26            NOTA\n",
       "27             BJP\n",
       "28             INC\n",
       "29             NCP\n",
       "           ...    \n",
       "8325         AINRC\n",
       "8326          ADMK\n",
       "8327           BSP\n",
       "8328           INC\n",
       "8329           DMK\n",
       "8330           CPI\n",
       "8331         JD(U)\n",
       "8332    CPI(ML)(L)\n",
       "8333           SAP\n",
       "8334          AAAP\n",
       "8335           IND\n",
       "8336           IND\n",
       "8337           IND\n",
       "8338           IND\n",
       "8339           IND\n",
       "8340           IND\n",
       "8341           IND\n",
       "8342           IND\n",
       "8343           IND\n",
       "8344           IND\n",
       "8345           IND\n",
       "8346           IND\n",
       "8347           IND\n",
       "8348           IND\n",
       "8349           IND\n",
       "8350           IND\n",
       "8351           IND\n",
       "8352           IND\n",
       "8353           IND\n",
       "8354          NOTA\n",
       "Name: PARTY, Length: 8355, dtype: object"
      ]
     },
     "execution_count": 211,
     "metadata": {},
     "output_type": "execute_result"
    }
   ],
   "source": [
    "df=pd.read_csv(\"C:/Users/jivitesh's PC/Desktop/Indian Elections/General Elections/constituency_wise_detailed_results/2014.csv\")\n",
    "#df.head()\n",
    "df.info()\n",
    "#df2=df.dropna(axis=0,inplace=True)\n",
    "#df.info()\n",
    "df.PARTY"
   ]
  },
  {
   "cell_type": "code",
   "execution_count": 212,
   "metadata": {
    "collapsed": true,
    "scrolled": true
   },
   "outputs": [],
   "source": [
    "df=pd.read_csv(\"C:/Users/jivitesh's PC/Desktop/Indian Elections/General Elections/constituency_wise_detailed_results/2014.csv\")\n",
    "#df.head()\n",
    "#df.info()\n",
    "#df2=df.dropna(axis=0,inplace=True)\n",
    "#df.info()\n",
    "df.PARTY\n",
    "PartyOrderedNames=[]\n",
    "PartiesTotalVotes={}\n",
    "UniquePartyArray=[i for i in set(df.PARTY)]\n",
    "AllIndexes={}\n",
    "np.asarray(UniquePartyArray)\n",
    "\n",
    "for i in UniquePartyArray:\n",
    "    PartiesTotalVotes[i]=0\n",
    "\n",
    "\n",
    "\n",
    "\n",
    "\n",
    "for i in range (len(df.PARTY)):\n",
    "        PartyOrderedNames.append(df.PARTY[i])\n",
    "np.asarray(PartyOrderedNames)\n",
    "\n",
    "for i in PartiesTotalVotes.keys():\n",
    "    AllIndexes[i]=np.where(df.PARTY==i)[0]\n",
    "    \n",
    "def SumTotal(target):\n",
    "    for x in AllIndexes[target]:\n",
    "        PartiesTotalVotes[target]=PartiesTotalVotes[target]+df.TOTALVOTESSECURED[x]\n",
    "    return PartiesTotalVotes\n",
    "         \n",
    "for i in UniquePartyArray:\n",
    "    for j in df.PARTY:\n",
    "        if i==j:\n",
    "            SumTotal(j)\n",
    "          \n",
    "\n",
    "        \n",
    "        \n",
    "for i in PartiesTotalVotes.keys():\n",
    "    PartiesTotalVotes[i]=PartiesTotalVotes[i]/PartyOrderedNames.count(i)\n",
    "\n",
    "PartiesTotalVotes\n",
    "CopyOfDict=PartiesTotalVotes.copy()\n",
    "\n",
    "\n",
    "\n"
   ]
  },
  {
   "cell_type": "code",
   "execution_count": 213,
   "metadata": {},
   "outputs": [
    {
     "name": "stdout",
     "output_type": "stream",
     "text": [
      "{'RJP(E)': 2654.0, 'PSJP': 433.0, 'BYS': 38633.0, 'PMSP': 39039.0, 'AIUDF': 2333040.0, 'DND': 4130.0, 'JeSM': 10564.0, 'ADUP': 9265.0, 'BCBDP': 596.0, 'AMS': 8544.0, 'UCPI': 6472.0, 'mmsp': 959.0, 'STR': 6542.0, 'RTKP': 4112.0, 'ANC': 19863.0, 'BMNSP': 877.0, 'JPJD': 27619.0, 'SARP': 9561.0, 'APRSSP': 2743.0, 'ADSMK': 2372.0, 'KVD': 7541.0, 'BaVaP': 4142.0, 'RLD': 696918.0, 'ABML(S)': 59735.0, 'LPI(V)': 1993.0, 'RPP(LB)': 1195.0, 'Aa S P': 3482.0, 'VIP': 23991.0, 'ravp': 38992.0, 'BMF': 16182.0, 'MCPI': 13019.0, 'BSDL': 1723.0, 'LPR': 4396.0, 'JKM': 2711.0, 'IOP': 649.0, 'JPC': 71154.0, 'BHBP': 4653.0, 'DFBL': 17465.0, 'RshJP': 1571.0, 'NCP': 8635558.0, 'NTP': 3251.0, 'ABJS': 20902.0, 'PPA': 47018.0, 'RSP': 1666380.0, 'BNJD': 20209.0, 'PRCP': 19470.0, 'HSCP': 888.0, 'ASaP': 1617.0, 'ARP': 16461.0, 'RrSP': 4215.0, 'JMM': 1465010.0, 'RVP': 2396.0, 'BaSaP': 5845.0, 'MaSP': 22022.0, 'RJAVP': 259.0, 'BSP(K)': 5416.0, 'VHS': 2880.0, 'nuzp': 124990.0, 'PGSP': 4052.0, 'ABAS': 296.0, 'RWSP': 2181.0, 'ARPS': 12042.0, 'BMSM': 3441.0, 'RJM': 4647.0, 'SVRP': 944.0, 'MKUP': 360.0, 'TLP': 2567.0, 'DESEP': 1262.0, 'NMK': 2511.0, 'BA S D': 59815.0, 'TRS': 6736270.0, 'ADSP': 11362.0, 'CPI(ML)(L)': 978153.0, 'SP(I)': 41518.0, 'grac': 2906.0, 'RVLP': 2958.0, 'ASP': 27589.0, 'BJM': 325.0, 'AAAP': 11036817.0, 'DPPS': 1342.0, 'RPI(A)': 201978.0, 'ABHKP': 685.0, 'AJSUP': 481667.0, 'JKP': 203869.0, 'ABCD(A)': 1461.0, 'RBC': 6265.0, 'RJPK': 10797.0, 'ABHM': 29483.0, 'BIP': 5362.0, 'NAP': 36181.0, 'RJD': 7440937.0, 'TDP': 14099230.0, 'PPI': 4082.0, 'UMK': 9194.0, 'JSMP': 357.0, 'IVD': 2570.0, 'SUCI': 482116.0, 'MaSPa': 2425.0, 'NPEP': 576448.0, 'AD': 820155.0, 'BKLJP': 3392.0, 'BHSSP': 4956.0, 'IBSPK': 1952.0, 'APM': 372.0, 'PRISM': 2694.0, 'RsAD': 12366.0, 'SamSP': 16501.0, 'ALHP': 5977.0, 'RaAD': 4327.0, 'APoI': 64922.0, 'ssrd': 7115.0, 'RPC(S)': 2025.0, 'GOA': 530.0, 'NOC': 1198.0, 'BSP': 22434033.0, 'SJPA': 15474.0, 'BSP(A)': 11104.0, 'PHRC': 4852.0, 'BSKP': 2409.0, 'aimpr': 1182.0, 'RKSP': 46756.0, 'IPGP': 3488.0, 'GaAP': 23505.0, 'NSBP': 3829.0, 'PAP': 698.0, 'BVM': 45667.0, 'ADMK': 18111579.0, 'AAP': 4380.0, 'NP': 791.0, 'ETMK': 3023.0, 'HEP': 566.0, 'JD(S)': 3731481.0, 'BC': 5371.0, 'JMM(U)': 3512.0, 'AIRSP': 543.0, 'JKNPP': 57103.0, 'RSOSP': 1054.0, 'BKrD': 4250.0, 'GRIP': 2594.0, 'NPF': 994505.0, 'JM': 2901.0, 'UPI': 944.0, 'bjdi': 1118.0, 'MDPF': 2005.0, 'ARWP': 2029.0, 'RBCP': 5801.0, 'TECPI': 2311.0, 'PECP': 518724.0, 'bns': 1862.0, 'RaIP': 4219.0, 'JD(U)': 5984608.0, 'SHP': 7953.0, 'NAJC': 2196.0, 'AMB': 74626.0, 'VSP': 263.0, 'MADP': 15742.0, 'ABSC': 2530.0, 'RMOP': 923.0, 'AKAKRP': 1568.0, 'igp': 546.0, 'BhNP': 2000.0, 'BBM': 360854.0, 'JaRaPa': 1318.0, 'RPI(KH)': 23110.0, 'BhSMP': 15940.0, 'SSKP': 10239.0, 'RJVP': 8152.0, 'A S P': 557.0, 'BJKD': 14685.0, 'ABSP': 651.0, 'pjdl': 28671.0, 'MaJP': 997.0, 'UPP': 2045.0, 'raup': 1629.0, 'PPOI': 185478.0, 'ICSP': 14360.0, 'ABMP': 1077.0, 'TNMC': 49024.0, 'MAMAK': 236679.0, 'BOPF': 330106.0, 'JPS': 47696.0, 'RUC': 56324.0, 'JaSPa': 204260.0, 'SRP': 6512.0, 'PWPI': 497721.0, 'MOSP': 4986.0, 'SDF': 163698.0, 'jhspt': 27122.0, 'SHS': 10262544.0, 'RSWD': 6994.0, 'LoRP': 1491.0, 'IPFT': 21326.0, 'SSD': 10395.0, 'BVA': 293681.0, 'JKP(N)': 16670.0, 'RMGP': 2872.0, 'RPS': 4521.0, 'RVNP': 8713.0, 'LB': 13399.0, 'aicp': 3778.0, 'AJKMP': 4392.0, 'CPIM': 88843.0, 'ILP(AP)': 6390.0, 'ADPT': 5579.0, 'MCO': 110185.0, 'AINRC': 255826.0, 'BBMP': 10160.0, 'RGD': 1111.0, 'BRAVP': 4411.0, 'RP(K)': 60491.0, 'AKBMP': 11221.0, 'SVPP': 394.0, 'RPIE': 910.0, 'RCMP': 2803.0, 'YuS': 4578.0, 'TTNC': 474.0, 'MBT': 11347.0, 'RJAP': 415.0, 'BJSP': 1337.0, 'shsap': 2982.0, 'REP': 601.0, 'HiSP': 997.0, 'NJC': 1463.0, 'RAKP': 2096.0, 'CPI': 4204428.0, 'JDP': 105435.0, 'LSP': 165670.0, 'BSCP': 75966.0, 'AGP': 577730.0, 'MNS': 708010.0, 'AIMIM': 685730.0, 'DaP': 2175.0, 'HiPPa': 8853.0, 'BKP': 1174.0, 'HJP': 46761.0, 'SDPI': 396524.0, 'BVLP': 161.0, 'IKL': 5084.0, 'BRMD': 1607.0, 'PMK': 1827566.0, 'BNNP': 2533.0, 'SKLP': 19253.0, 'SaSaP': 4947.0, 'RSMD': 30888.0, 'NADP': 15967.0, 'MwSP': 17890.0, 'HJCBL': 703698.0, 'RPI': 87952.0, 'RKEP': 1254.0, 'DABAP': 7746.0, 'RPD': 95644.0, 'AKBJHP': 16616.0, 'IUML': 1100096.0, 'IBSP': 1059.0, 'BED': 90314.0, 'JMBP': 57988.0, 'LKJP': 10026.0, 'RJ': 1145.0, 'S(J)': 14152.0, 'BJKVP': 21524.0, 'SaVP': 763.0, 'IJP': 1103.0, 'SaBP': 16078.0, 'JAP': 2249.0, 'RaCP': 7650.0, 'BSD': 1096.0, 'RaJSP': 32514.0, 'MMKA': 8468.0, 'INL': 11924.0, 'SWP': 1105073.0, 'SWSP': 4016.0, 'NDEP': 3618.0, 'PPIS': 331.0, 'lpi': 5804.0, 'RtJP': 4117.0, 'JBSP': 215607.0, 'RSSDP': 3283.0, 'VAJP': 350.0, 'IPP': 2155.0, 'BHNKP': 502.0, 'MNDP': 11225.0, 'LJP': 2295929.0, 'ABVCP': 2255.0, 'BHPP': 4291.0, 'VJCP': 3972.0, 'DCP': 833.0, 'KMBS': 7839.0, 'INC': 96641749.0, 'BSDS': 924.0, 'SJD': 307597.0, 'SWJP': 10008.0, 'BEMP': 8729.0, 'JaRaP': 2543.0, 'SBSP': 118947.0, 'TPGC': 8952.0, 'PLP': 1386.0, 'BJP': 161047761.0, 'PBI': 2271.0, 'JGP': 27624.0, 'BRPI': 2138.0, 'LSWP': 2820.0, 'NRSN': 1725.0, 'RSD': 665.0, 'JVM': 1579772.0, 'pms': 3076.0, 'DaVP': 950.0, 'sps': 4870.0, 'PG': 7222.0, 'UDP': 106817.0, 'PSS': 15368.0, 'bjyp': 2000.0, 'TRMRPPI': 1071.0, 'AIMF': 9938.0, 'AGRJP': 5228.0, 'SSAD': 6788.0, 'SAD(M)': 35516.0, 'PT': 262812.0, 'SPP': 30805.0, 'HND': 8889.0, 'NLP': 11174.0, 'SSPD': 6681.0, 'RADP': 38322.0, 'MEDP': 10490.0, 'BRABSVP': 3238.0, 'DNP': 5485.0, 'SLP(L)': 1997.0, 'AVIRP': 5861.0, 'KEC(M)': 424194.0, 'WPOI': 228645.0, 'RAPa': 3408.0, 'BDBRAJP': 9481.0, 'APCP': 15370.0, 'SWPI': 11361.0, 'VoP': 1089.0, 'AAMJP': 9371.0, 'JVD': 10870.0, 'JDR': 53864.0, 'MAHP': 2101.0, 'BhJaSP': 3336.0, 'IUC': 13527.0, 'MD': 22774.0, 'IVP': 398.0, 'ESKP': 2988.0, 'CPM': 17938138.0, 'PRSP': 21284.0, 'BMUP': 763532.0, 'RSPS': 458580.0, 'hkd': 2761.0, 'RAC': 4527.0, 'ARVP': 12037.0, 'JSK': 4489.0, 'DMK': 9631246.0, 'ATBP': 2135.0, 'SAD': 3636148.0, 'SJP(R)': 59756.0, 'BJJD': 4664.0, 'NIP': 5082.0, 'MOP': 5406.0, 'KCVP': 707.0, 'SAP': 21631.0, 'KAP': 33172.0, 'ABRS': 683.0, 'ABSR': 4380.0, 'SP': 18632568.0, 'KS': 2946.0, 'SKM': 121956.0, 'AIACP': 1593.0, 'RBHP': 1842.0, 'NaLP': 3072.0, 'JND': 4719.0, 'NBDP': 16153.0, 'JanSP': 944.0, 'AwVP': 3747.0, 'YSRCP': 13995435.0, 'BJPARTY': 6765.0, 'LD': 48202.0, 'BBPSP': 1679.0, 'RBS': 2910.0, 'AKBAP': 1040.0, 'SaDa': 2329.0, 'KDC': 1345.0, 'JKN': 396713.0, 'PDS': 22284.0, 'RaMSP': 1572.0, 'INLD': 2799899.0, 'bhp': 1635.0, 'SDP': 17435.0, 'BBC': 7197.0, 'JRPa': 3846.0, 'NNP': 441.0, 'RND': 6192.0, 'asdp': 1949.0, 'BKSL': 3826.0, 'AIFB': 1211418.0, 'JHP': 14754.0, 'MVA': 3715.0, 'DBSP': 5240.0, 'BhNaP': 1408.0, 'AMP': 1920.0, 'RAHM': 13185.0, 'NBNP': 485.0, 'LS': 3722.0, 'BGTD': 5761.0, 'DMDK': 2078843.0, 'RaBaP': 1521.0, 'RDHP': 4112.0, 'rdsc': 10800.0, 'RJJM': 7147.0, 'BLSP': 1078473.0, 'RaJPa': 217.0, 'RVMP': 1434.0, 'kajp': 4839.0, 'RSPK(B)': 43051.0, 'RRP': 2225.0, 'ISSP': 16903.0, 'QED': 354577.0, 'RJNP': 18210.0, 'LPSP': 13304.0, 'NPT': 1455.0, 'AITC': 21215661.0, 'BRVP': 1152.0, 'BCUF': 7036.0, 'HVD': 7921.0, 'MPS(T)': 13339.0, 'BKPP': 7342.0, 'BNIP': 1440.0, 'BCP': 802.0, 'BPC': 2571.0, 'JJ': 1517.0, 'MBCOI': 19417.0, 'JHAP': 12240.0, 'VCK': 606110.0, 'MMM': 4409.0, 'IND': 15888094.0, 'GSRP': 783.0, 'MHD': 2482.0, 'SLAP': 682.0, 'JKPDP': 732644.0, 'NOTA': 5445287.0, 'EKSP': 5341.0, 'GGP': 201722.0, 'HKRD': 6703.0, 'BSKD': 1423.0, 'RtrJP': 1526.0, 'JVBP': 4270.0, 'NEP': 2917.0, 'BRPP': 8226.0, 'MDMK': 1417535.0, 'JSEP': 6636.0, 'AIPF': 7630.0, 'NYP': 1176.0, 'UPRP': 542.0, 'CSM': 11837.0}\n"
     ]
    }
   ],
   "source": [
    "print(CopyOfDict)"
   ]
  },
  {
   "cell_type": "code",
   "execution_count": 214,
   "metadata": {},
   "outputs": [
    {
     "data": {
      "image/png": "[encoded data removed]",
      "text/plain": [
       "<matplotlib.figure.Figure at 0x19aa7d7dba8>"
      ]
     },
     "metadata": {},
     "output_type": "display_data"
    }
   ],
   "source": [
    "Top_ten=pd.DataFrame({\"PartyName\":[i for i in CopyOfDict.keys()],\"PartyVotes\":[i for i in CopyOfDict.values()]})\n",
    "Top_ten.sort_values(by=[\"PartyVotes\"],ascending=False,inplace=True)\n",
    "OriginalTopTen=Top_ten.head(10)\n",
    "Labels=[]\n",
    "ArrayLabels=(np.asarray(OriginalTopTen.PartyName))\n",
    "X_axis=np.arange(len(OriginalTopTen.PartyName))\n",
    "\n",
    "\n",
    "\n",
    "plt.figure(figsize=(20,10))\n",
    "plt.bar(X_axis,OriginalTopTen.PartyVotes)\n",
    "plt.xlabel(\"Top 10 Party Names\")\n",
    "plt.ylabel(\"Total Votes in  Hundred Millions\")\n",
    "plt.xticks(X_axis,ArrayLabels)\n",
    "plt.show()\n",
    "\n",
    "\n"
   ]
  },
  {
   "cell_type": "markdown",
   "metadata": {},
   "source": [
    "# 2009 dataset"
   ]
  },
  {
   "cell_type": "code",
   "execution_count": 43,
   "metadata": {
    "collapsed": true
   },
   "outputs": [],
   "source": [
    "df=pd.read_csv(\"C:/Users/jivitesh's PC/Desktop/Indian Elections/General Elections/constituency_wise_detailed_results/2009.csv\")\n",
    "#df.head()\n",
    "#df.info()\n",
    "#df2=df.dropna(axis=0,inplace=True)\n",
    "#df.info()\n",
    "df.PARTY\n",
    "PartyOrderedNames2009=[]\n",
    "PartiesTotalVotes2009={}\n",
    "UniquePartyArray2009=[i for i in set(df.PARTY)]\n",
    "AllIndexes2009={}\n",
    "np.asarray(UniquePartyArray2009)\n",
    "\n",
    "for i in UniquePartyArray2009:\n",
    "    PartiesTotalVotes2009[i]=0\n",
    "\n",
    "\n",
    "\n",
    "\n",
    "\n",
    "for i in range (len(df.PARTY)):\n",
    "        PartyOrderedNames2009.append(df.PARTY[i])\n",
    "np.asarray(PartyOrderedNames2009)\n",
    "\n",
    "for i in PartiesTotalVotes2009.keys():\n",
    "    AllIndexes2009[i]=np.where(df.PARTY==i)[0]\n",
    "    \n",
    "def SumTotal(target):\n",
    "    for x in AllIndexes2009[target]:\n",
    "        PartiesTotalVotes2009[target]=PartiesTotalVotes2009[target]+df.TOTALVOTES[x]\n",
    "    return PartiesTotalVotes2009\n",
    "         \n",
    "for i in UniquePartyArray2009:\n",
    "    for j in df.PARTY:\n",
    "        if i==j:\n",
    "            SumTotal(j)\n",
    "          \n",
    "\n",
    "        \n",
    "        \n",
    "for i in PartiesTotalVotes2009.keys():\n",
    "    PartiesTotalVotes2009[i]=PartiesTotalVotes2009[i]/PartyOrderedNames2009.count(i)\n",
    "\n",
    "PartiesTotalVotes2009\n",
    "CopyOfDict2009=PartiesTotalVotes2009.copy()\n"
   ]
  },
  {
   "cell_type": "code",
   "execution_count": 46,
   "metadata": {},
   "outputs": [
    {
     "name": "stdout",
     "output_type": "stream",
     "text": [
      "{'AC': 46539.0, 'PMSP': 57649.0, 'UCPI': 1713.0, 'JANS': 226.0, 'BJTP': 6872.0, 'ACNC': 40204.0, 'RTKP': 55805.0, 'ANC': 60896.0, 'ADSMK': 1189.0, 'MUL': 877494.0, 'RLD': 1821054.0, 'MBP': 1006.0, 'MJP': 245174.0, 'DBP': 531.0, 'BMF': 13737.0, 'JKM': 12716.0, 'JPC': 65403.0, 'BHBP': 39797.0, 'NCP': 8521502.0, 'BREM': 42386.0, 'ABJS': 20599.0, 'SKP': 60333.0, 'UGDP': 16727.0, 'ABMSD': 26268.0, 'PPA': 5996.0, 'RSP': 1573650.0, 'BRM': 867.0, 'BNJD': 7194.0, 'YFE': 2099.0, 'JP': 1514.0, 'MAP': 1816.0, 'NELU': 27388.0, 'PRCP': 76518.0, 'BHSAS': 15718.0, 'ARP': 6672.0, 'RAD': 4072.0, 'JMM': 1665173.0, 'RVP': 584.0, 'PRBP': 11341.0, 'SHRP': 4639.0, 'BUM': 15272.0, 'BSP(K)': 33010.0, 'ABKMM': 305.0, 'VHS': 935.0, 'IPFB': 2686.0, 'SGPP': 2284.0, 'ABAS': 13828.0, 'RWSP': 450.0, 'JCGP': 2397.0, 'RRS': 1284.0, 'BMSM': 9871.0, 'SVRP': 1704.0, 'MKUP': 1341.0, 'DESEP': 30532.0, 'YSP': 2582.0, 'NMK': 1114.0, 'BLPGL': 3359.0, 'JBP': 836.0, 'TRS': 2582326.0, 'NSCP': 902.0, 'ADSP': 9936.0, 'RALP': 5460.0, 'JKPP': 2498.0, 'BSKPB': 2822.0, 'AIDWC': 8961.0, 'DPI': 494.0, 'ASP': 42586.0, 'ABP': 2664.0, 'RPI(A)': 379746.0, 'CPI(ML)': 1044510.0, 'ABHKP': 2633.0, 'AJSUP': 200523.0, 'THPI': 7296.0, 'JKP': 125900.0, 'MAG': 6638.0, 'RJPK': 12732.0, 'ABHM': 47456.0, 'AWD': 614.0, 'RJD': 5280084.0, 'TDP': 10481659.0, 'UMK': 13193.0, 'IVD': 4439.0, 'AD': 495032.0, 'BKLJP': 790.0, 'BUDM': 4210.0, 'RPC(S)': 3980.0, 'AIVP': 20982.0, 'LJVM': 3658.0, 'PTSS': 6316.0, 'BSP': 25728920.0, 'BHC': 1069.0, 'KTMK': 1686.0, 'BSKP': 15734.0, 'RKSP': 71857.0, 'BJBP': 1253.0, 'RAJUP': 2005.0, 'BVM': 5645.0, 'ADMK': 6953591.0, 'DPK': 2154.0, 'LM': 5087.0, 'SVSP': 2486.0, 'SUSP': 5120.0, 'ABSSP': 786.0, 'RSUPR': 1532.0, 'UNLP': 2658.0, 'LTSD': 270040.0, 'RKJP': 15847.0, 'PRAP': 6590046.0, 'MANP': 39257.0, 'JD(S)': 3434082.0, 'RSBP': 152633.0, 'FCI': 684.0, 'BJSH': 1296.0, 'STBP': 188608.0, 'JKNPP': 87502.0, 'RSP(S)': 2305.0, 'PDFO': 20699.0, 'GRIP': 18161.0, 'SGF': 1117.0, 'NPF': 832224.0, 'HSPDP': 97613.0, 'JM': 7826.0, 'ARWP': 969.0, 'RBCP': 2244.0, 'KSVP': 4035.0, 'CDF': 1300.0, 'PECP': 537638.0, 'JSP': 2468.0, 'JD(U)': 6331201.0, 'AMB': 45102.0, 'JHKP': 13313.0, 'MADP': 20534.0, 'BSSPA': 11151.0, 'KEC': 333688.0, 'BHPD': 3292.0, 'MCPI(S)': 15922.0, 'BBM': 492470.0, 'CSP': 11972.0, 'RDMP': 139404.0, 'SJTP': 4816.0, 'RPI(KH)': 5566.0, 'BAP': 7593.0, 'BMM': 1211.0, 'RJVP': 36584.0, 'RGOP': 1802.0, 'BJKD': 1245.0, 'ABDBM': 6220.0, 'BPJP': 9457.0, 'PPOI': 287576.0, 'AIBS': 1217.0, 'ICSP': 1853.0, 'JSS': 23925.0, 'ABMP': 1619.0, 'MAMAK': 68346.0, 'BOPF': 656430.0, 'BCDP': 8129.0, 'PRBD': 7497.0, 'JPS': 129595.0, 'AJBP': 7567.0, 'SDF': 159351.0, 'SHS': 6454950.0, 'RSWD': 43184.0, 'RBD': 3138.0, 'SSD': 26807.0, 'BVA': 223234.0, 'JKP(N)': 104600.0, 'AIRP': 678.0, 'MB(S)P': 910.0, 'RVNP': 34670.0, 'LB': 9407.0, 'BSKRP': 5068.0, 'KVSP': 10447.0, 'ABLTP': 578.0, 'MCO': 91489.0, 'RP(K)': 11724.0, 'RPIE': 12767.0, 'SVPP': 2275.0, 'UKKD': 38633.0, 'RJAP': 1394.0, 'HDVP': 532.0, 'RALOP': 2021.0, 'CPI': 5951888.0, 'JDP': 102698.0, 'LSP': 557376.0, 'AGP': 1773103.0, 'MNS': 1503863.0, 'AIMIM': 308061.0, 'JJJKMC': 1100.0, 'HJP': 7054.0, 'LBP': 118470.0, 'PDA': 224719.0, 'PBHP': 4810.0, 'AP': 4386.0, 'ASDC': 123287.0, 'PMK': 1944619.0, 'RSMD': 153455.0, 'VVS': 837.0, 'BPD': 14974.0, 'RPP': 29151.0, 'HJCBL': 816395.0, 'JHJAM': 32219.0, 'GMS': 85355.0, 'RPI': 294650.0, 'AJSP': 2678.0, 'MKD': 1106.0, 'IUML': 7553.0, 'IBSP': 1780.0, 'LKJP': 351.0, 'KOKD': 42744.0, 'BJD': 6612552.0, 'BJKVP': 11097.0, 'IJP': 177759.0, 'BSD': 5565.0, 'MMKA': 16699.0, 'SWP': 481025.0, 'BEP': 8105.0, 'AIJMK': 21609.0, 'NDEP': 2787.0, 'JBSP': 4967.0, 'PPIS': 578.0, 'BVP': 1435.0, 'VAJP': 17868.0, 'IPP': 18726.0, 'LJP': 1891963.0, 'RDSD': 484.0, 'BHPP': 5226.0, 'CGVP': 18394.0, 'RYS': 482.0, 'DCP': 2497.0, 'INC': 119111019.0, 'UWF': 12338.0, 'MDP': 8946.0, 'SWJP': 23539.0, 'LKSP': 11893.0, 'SBSP': 319307.0, 'ABCD(A': 22861.0, 'BRP': 1407.0, 'BJBCD': 4307.0, 'PLP': 1243.0, 'BJP': 78435381.0, 'JKANC': 9900.0, 'BSA': 18844.0, 'JGP': 64482.0, 'BDBP': 2217.0, 'LSWP': 40803.0, 'JVM': 963274.0, 'PG': 30340.0, 'UDP': 124402.0, 'AIMF': 10211.0, 'RMSP': 7290.0, 'PKMK': 981.0, 'SAD(M)': 43137.0, 'PT': 120797.0, 'PDF': 3502.0, 'PRPI': 5819.0, 'NLP': 5371.0, 'BSRD': 6250.0, 'RCPI(R)': 7788.0, 'BSSP': 15948.0, 'SLP(L)': 9712.0, 'KEC(M)': 404962.0, 'NSSP': 573.0, 'TPPP': 48136.0, 'SWPI': 1230.0, 'JHJM': 58025.0, 'JVD': 45246.0, 'RPPI': 3894.0, 'RCP': 25842.0, 'MC': 2765.0, 'SJEP': 2849.0, 'RASAP': 2754.0, 'MD': 65398.0, 'AUDF': 2184553.0, 'KM': 65151.0, 'CPM': 22219111.0, 'PRSP': 17570.0, 'VP': 5840.0, 'BSC': 4758.0, 'BLKD': 5197.0, 'RSPS': 215042.0, 'BSP(AP': 10698.0, 'NDPF': 1557.0, 'DMK': 7625397.0, 'SAD': 4004789.0, 'BD': 700.0, 'SJP(R)': 30091.0, 'BJJD': 34528.0, 'RASJP': 5841.0, 'MOP': 2285.0, 'KCVP': 2269.0, 'JCP': 2987.0, 'SAP': 31324.0, 'ABRS': 8065.0, 'RRD': 7915.0, 'BNRP': 1464.0, 'ABSR': 1108.0, 'LKSGM': 53637.0, 'SP': 14284638.0, 'LVKP': 9198.0, 'KS': 53033.0, 'BOP': 47720.0, 'KKJHS': 70715.0, 'JUP': 595.0, 'MMUP': 4444.0, 'AIC': 1718.0, 'RNSP': 2041.0, 'AIFB(S)': 2758.0, 'LD': 24588.0, 'RPI(D)': 5809.0, 'YVP': 3129.0, 'KDC': 1341.0, 'JKN': 498374.0, 'PDS': 6141.0, 'NLHP': 72620.0, 'INLD': 1286573.0, 'ABJP': 1085.0, 'JKD': 2787.0, 'RND': 3155.0, 'RMEP': 4588.0, 'BHJAP': 13506.0, 'AIFB': 1345803.0, 'RWS': 144735.0, 'DBSP': 7817.0, 'SAMO': 131379.0, 'BVVP': 1774.0, 'NBNP': 37219.0, 'BGTD': 7764.0, 'SSBD': 589.0, 'RLP': 1866.0, 'OMM': 2591.0, 'DMDK': 3126117.0, 'BBP': 1552.0, 'RDHP': 9005.0, 'RJJM': 13194.0, 'RJSD': 2202.0, 'LPSP': 29459.0, 'AITC': 13356510.0, 'BCUF': 6910.0, 'RMGLM': 1780.0, 'KNMK': 579703.0, 'SMBHP': 14435.0, 'BCP': 1246.0, 'BPC': 2798.0, 'JJ': 573.0, 'PNK': 15074.0, 'ABMSK': 1197.0, 'VCK': 735847.0, 'MMM': 8839.0, 'IND': 21647686.0, 'BSK': 496.0, 'JKPDP': 522760.0, 'EKSP': 31983.0, 'GGP': 220741.0, 'BRPP': 25940.0, 'MPP': 101787.0, 'APRD': 7482.0, 'BGD': 346.0, 'MDMK': 1112908.0, 'NYP': 2275.0, 'DGPP': 5660.0, 'LSVP': 2507.0, 'RASD': 22453.0, 'STPI': 5537.0, 'UPRP': 4604.0}\n"
     ]
    }
   ],
   "source": [
    " print(CopyOfDict2009)"
   ]
  },
  {
   "cell_type": "code",
   "execution_count": 47,
   "metadata": {},
   "outputs": [
    {
     "data": {
      "image/png": "[encoded data removed]",
      "text/plain": [
       "<matplotlib.figure.Figure at 0x19aa3246278>"
      ]
     },
     "metadata": {},
     "output_type": "display_data"
    }
   ],
   "source": [
    "Top_ten2009=pd.DataFrame({\"PartyName\":[i for i in CopyOfDict2009.keys()],\"PartyVotes\":[i for i in CopyOfDict2009.values()]})\n",
    "Top_ten2009.sort_values(by=[\"PartyVotes\"],ascending=False,inplace=True)\n",
    "OriginalTopTen2009=Top_ten2009.head(10)\n",
    "Labels2009=[]\n",
    "ArrayLabels2009=(np.asarray(OriginalTopTen2009.PartyName))\n",
    "X_axis2009=np.arange(len(OriginalTopTen2009.PartyName))\n",
    "\n",
    "\n",
    "\n",
    "plt.figure(figsize=(20,10))\n",
    "plt.bar(X_axis2009,OriginalTopTen2009.PartyVotes)\n",
    "plt.xlabel(\"Top 10 Party Names\")\n",
    "plt.ylabel(\"Total Votes in  Hundred Millions\")\n",
    "plt.xticks(X_axis2009,ArrayLabels2009)\n",
    "plt.show()"
   ]
  },
  {
   "cell_type": "markdown",
   "metadata": {},
   "source": [
    "# Yearly Graphs For Party"
   ]
  },
  {
   "cell_type": "code",
   "execution_count": 224,
   "metadata": {},
   "outputs": [
    {
     "name": "stdout",
     "output_type": "stream",
     "text": [
      "{'BJP': [], 'INC': [], 'BSP': [], 'AITC': [], 'SP': [], 'ADMK': [], 'CPM': [], 'IND': [], 'TDP': [], 'YSRCP': [], 'NCP': [], 'DMK': []}\n"
     ]
    },
    {
     "data": {
      "image/png": "[encoded data removed]",
      "text/plain": [
       "<matplotlib.figure.Figure at 0x19aa6c87898>"
      ]
     },
     "metadata": {},
     "output_type": "display_data"
    }
   ],
   "source": [
    "AllPartyNames={}\n",
    "\n",
    "for i in ArrayLabels:\n",
    "    AllPartyNames[i]=[]\n",
    "\n",
    "for i in ArrayLabels2009:\n",
    "    AllPartyNames[i]=[]\n",
    "\n",
    "print(AllPartyNames)\n",
    "\n",
    "for i in AllPartyNames.keys():\n",
    "    if i in CopyOfDict:\n",
    "        AllPartyNames[i].append(CopyOfDict[i])\n",
    "    if i in CopyOfDict2009:\n",
    "        AllPartyNames[i].append(CopyOfDict2009[i])\n",
    "    else:\n",
    "        AllPartyNames[i].append(0)\n",
    "\n",
    "df=pd.DataFrame(AllPartyNames)\n",
    "df=df.T\n",
    "\n",
    "\n",
    "df.rename(columns={0:\"2014\",1:\"2009\"},inplace=True)\n",
    "df\n",
    "\n",
    "\n",
    "MyPlot=df.plot(x=df.index,y=[\"2014\",\"2009\"],kind=\"bar\",figsize=(20,10),title=\"2014 vs 2009\",fontsize=15)\n",
    "MyPlot.set_xlabel(\"Party Names\")\n",
    "MyPlot.set_ylabel(\"Total Votes in Hundred Millions\")\n",
    "\n",
    "\n",
    "for i in ([MyPlot.xaxis.label,MyPlot.yaxis.label,MyPlot.title]):\n",
    "    i.set_fontsize(15)\n",
    "\n",
    "plt.show()\n",
    "\n",
    "\n",
    "\n",
    "\n",
    "\n",
    "\n"
   ]
  },
  {
   "cell_type": "markdown",
   "metadata": {},
   "source": [
    "# Model Creation and Prediction for 2014"
   ]
  },
  {
   "cell_type": "code",
   "execution_count": null,
   "metadata": {
    "collapsed": true
   },
   "outputs": [],
   "source": []
  },
  {
   "cell_type": "code",
   "execution_count": 2,
   "metadata": {},
   "outputs": [
    {
     "ename": "AttributeError",
     "evalue": "module 'sklearn' has no attribute 'model_selection'",
     "output_type": "error",
     "traceback": [
      "\u001b[1;31m---------------------------------------------------------------------------\u001b[0m",
      "\u001b[1;31mAttributeError\u001b[0m                            Traceback (most recent call last)",
      "\u001b[1;32m<ipython-input-2-3871c3106a45>\u001b[0m in \u001b[0;36m<module>\u001b[1;34m()\u001b[0m\n\u001b[0;32m     10\u001b[0m \u001b[0my\u001b[0m\u001b[1;33m=\u001b[0m\u001b[0mPredictiondf\u001b[0m\u001b[1;33m[\u001b[0m\u001b[1;34m'TOTALVOTESSECURED'\u001b[0m\u001b[1;33m]\u001b[0m\u001b[1;33m\u001b[0m\u001b[0m\n\u001b[0;32m     11\u001b[0m \u001b[1;33m\u001b[0m\u001b[0m\n\u001b[1;32m---> 12\u001b[1;33m \u001b[0mX_train\u001b[0m\u001b[1;33m,\u001b[0m\u001b[0mX_test\u001b[0m\u001b[1;33m,\u001b[0m\u001b[0mY_train\u001b[0m\u001b[1;33m,\u001b[0m\u001b[0mY_test\u001b[0m\u001b[1;33m=\u001b[0m\u001b[0msklearn\u001b[0m\u001b[1;33m.\u001b[0m\u001b[0mmodel_selection\u001b[0m\u001b[1;33m.\u001b[0m\u001b[0mtrain_test_split\u001b[0m\u001b[1;33m(\u001b[0m\u001b[0mX\u001b[0m\u001b[1;33m,\u001b[0m\u001b[0my\u001b[0m\u001b[1;33m,\u001b[0m\u001b[0mtest_size\u001b[0m\u001b[1;33m=\u001b[0m\u001b[1;36m0.3\u001b[0m\u001b[1;33m,\u001b[0m\u001b[0mrandom_state\u001b[0m\u001b[1;33m=\u001b[0m\u001b[1;36m5\u001b[0m\u001b[1;33m)\u001b[0m\u001b[1;33m\u001b[0m\u001b[0m\n\u001b[0m",
      "\u001b[1;31mAttributeError\u001b[0m: module 'sklearn' has no attribute 'model_selection'"
     ]
    }
   ],
   "source": [
    "import sklearn\n",
    "    \n",
    "df=pd.read_csv(\"C:/Users/jivitesh's PC/Desktop/Indian Elections/General Elections/constituency_wise_detailed_results/2014.csv\")\n",
    "Predictiondf=pd.DataFrame({\"GeneralVotesSecured\":np.asarray(df.GENERALVOTESSECURED),\"POSTALVOTESSECURED\":np.asarray(df.POSTALVOTESSECURED),\"PERCENTAGETOTALVOTES\":np.asarray(df.PERCENTAGEOFTOTALVOTES),\"PERCENTAGEOFTOTALPOLLED\":np.asarray(df.PERCENTAGEOFTOTALPOLLED),\"TOTALELECTORS\":np.asarray(df.TOTALELECTORS),\"TOTALVOTESSECURED\":np.asarray(df.TOTALVOTESSECURED)})\n",
    "Predictiondf.corr()\n",
    "Predictiondf.columns\n",
    "\n",
    "X=Predictiondf[['GeneralVotesSecured', 'PERCENTAGEOFTOTALPOLLED',\n",
    "       'PERCENTAGETOTALVOTES', 'POSTALVOTESSECURED', 'TOTALELECTORS']]\n",
    "y=Predictiondf['TOTALVOTESSECURED']\n",
    "\n",
    "X_train,X_test,Y_train,Y_test=sklearn.model_selection.train_test_split(X,y,test_size=0.3,random_state=5)"
   ]
  },
  {
   "cell_type": "code",
   "execution_count": 57,
   "metadata": {},
   "outputs": [
    {
     "name": "stdout",
     "output_type": "stream",
     "text": [
      "   UniqueName OrderedName  Total\n",
      "0        Anav        Jivi     20\n",
      "1        Jivi        Anav     15\n",
      "2       Utsav       Utsav     15\n",
      "3      Etaash        Anav     10\n",
      "4      Viraat      Viraat     30\n",
      "5       Rohit       Rohit     40\n",
      "6        Yash        Yash     15\n",
      "7          NA        Yash     50\n",
      "8          NA        Anav    123\n",
      "9          NA        Jivi     10\n",
      "10         NA      Etaash     15\n",
      "11         NA        Jivi     10\n",
      "12       Jivi          NA     15\n",
      "13       Anav        Jivi     20\n",
      "14       Jivi        Anav     15\n",
      "15      Utsav       Utsav     15\n",
      "16     Etaash        Anav     10\n",
      "17     Viraat      Viraat     30\n",
      "18      Rohit       Rohit     40\n",
      "19       Yash        Yash     15\n",
      "20         NA        Yash     50\n",
      "21         NA        Anav    123\n",
      "22         NA        Jivi     10\n",
      "23         NA      Etaash     15\n",
      "24         NA        Jivi     10\n",
      "25       Jivi          NA     15\n",
      "['Jivi', 'Viraat', 'Utsav', 'NA', 'Etaash', 'Anav', 'Yash', 'Rohit']\n",
      "{'Jivi': 80.0, 'NA': 30.0, 'Viraat': 60.0, 'Etaash': 30.0, 'Anav': 296.0, 'Yash': 130.0, 'Rohit': 0.0, 'Utsav': 30.0}\n"
     ]
    },
    {
     "ename": "TypeError",
     "evalue": "unhashable type: 'slice'",
     "output_type": "error",
     "traceback": [
      "\u001b[1;31m---------------------------------------------------------------------------\u001b[0m",
      "\u001b[1;31mTypeError\u001b[0m                                 Traceback (most recent call last)",
      "\u001b[1;32m<ipython-input-57-9ee0ab524e5a>\u001b[0m in \u001b[0;36m<module>\u001b[1;34m()\u001b[0m\n\u001b[0;32m     52\u001b[0m \u001b[0mprint\u001b[0m\u001b[1;33m(\u001b[0m\u001b[0mNameTotal\u001b[0m\u001b[1;33m)\u001b[0m\u001b[1;33m\u001b[0m\u001b[0m\n\u001b[0;32m     53\u001b[0m \u001b[1;33m\u001b[0m\u001b[0m\n\u001b[1;32m---> 54\u001b[1;33m \u001b[0mCopy\u001b[0m\u001b[1;33m=\u001b[0m\u001b[0mNameTotal\u001b[0m\u001b[1;33m[\u001b[0m\u001b[1;33m:\u001b[0m\u001b[1;33m]\u001b[0m\u001b[1;33m\u001b[0m\u001b[0m\n\u001b[0m\u001b[0;32m     55\u001b[0m \u001b[1;33m\u001b[0m\u001b[0m\n\u001b[0;32m     56\u001b[0m \u001b[1;33m\u001b[0m\u001b[0m\n",
      "\u001b[1;31mTypeError\u001b[0m: unhashable type: 'slice'"
     ]
    }
   ],
   "source": [
    "data=[['Anav','Jivi',20],['Jivi','Anav',15],['Utsav','Utsav',15],['Etaash','Anav',10],['Viraat','Viraat',30],['Rohit','Rohit',40],['Yash','Yash',15],['NA','Yash',50],['NA','Anav',123],['NA','Jivi',10],['NA','Etaash',15],['NA','Jivi',10],['Jivi','NA',15],['Anav','Jivi',20],['Jivi','Anav',15],['Utsav','Utsav',15],['Etaash','Anav',10],['Viraat','Viraat',30],['Rohit','Rohit',40],['Yash','Yash',15],['NA','Yash',50],['NA','Anav',123],['NA','Jivi',10],['NA','Etaash',15],['NA','Jivi',10],['Jivi','NA',15]]\n",
    "df=pd.DataFrame(data,columns=['UniqueName','OrderedName','Total'])\n",
    "\n",
    "\n",
    "\n",
    "UniqueNameArray=[i for i in (df.UniqueName)]\n",
    "OrderedNames=[]\n",
    "NameTotal={}\n",
    "AllIndexes={}\n",
    "UniqueNameArray=set(UniqueNameArray)\n",
    "\n",
    "np.asarray(UniqueNameArray)\n",
    "for i in UniqueNameArray:\n",
    "    NameTotal[i]=0\n",
    "    \n",
    "for i in range (len(df.OrderedName)):\n",
    "        OrderedNames.append(df.OrderedName[i])\n",
    "np.asarray(OrderedNames)\n",
    "\n",
    "print(df)\n",
    "#print(OrderedNames)\n",
    "#print(UniqueNameArray)\n",
    "#print(NameTotal)\n",
    "#print(AllIndexes)\n",
    "UniqueNameArray=set(UniqueNameArray)\n",
    "\n",
    "#print(NameTotal)\n",
    "\n",
    "#print(AllIndexes)\n",
    "\n",
    "UniqueNameArray=list(UniqueNameArray)\n",
    "print(UniqueNameArray)\n",
    "   \n",
    "for i in NameTotal.keys():\n",
    "    AllIndexes[i]=np.where(df.OrderedName==i)[0]\n",
    "\n",
    "#print(AllIndexes)\n",
    "\n",
    "def SumTotal(target):\n",
    "    for x in AllIndexes[target]:\n",
    "        NameTotal[target]=NameTotal[target]+df.Total[x]\n",
    "    return NameTotal\n",
    "\n",
    "for i in range(len(UniqueNameArray)-1):\n",
    "    for j in df.OrderedName:\n",
    "        if UniqueNameArray[i]==j :\n",
    "            SumTotal(j)\n",
    "\n",
    "for i in NameTotal.keys():\n",
    "    NameTotal[i]=NameTotal[i]/OrderedNames.count(i)\n",
    "        \n",
    "print(NameTotal)\n",
    "        \n",
    "Copy=NameTotal[:]\n",
    "\n",
    "            \n",
    "           \n",
    "       \n",
    "            \n",
    " \n"
   ]
  },
  {
   "cell_type": "code",
   "execution_count": null,
   "metadata": {
    "collapsed": true
   },
   "outputs": [],
   "source": []
  }
 ],
 "metadata": {
  "kernelspec": {
   "display_name": "Python 3",
   "language": "python",
   "name": "python3"
  },
  "language_info": {
   "codemirror_mode": {
    "name": "ipython",
    "version": 3
   },
   "file_extension": ".py",
   "mimetype": "text/x-python",
   "name": "python",
   "nbconvert_exporter": "python",
   "pygments_lexer": "ipython3",
   "version": "3.6.1"
  }
 },
 "nbformat": 4,
 "nbformat_minor": 2
}

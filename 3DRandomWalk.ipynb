{
 "cells": [
  {
   "cell_type": "code",
   "execution_count": 3,
   "metadata": {},
   "outputs": [
    {
     "name": "stdout",
     "output_type": "stream",
     "text": [
      "(9, -18, 1)\n"
     ]
    },
    {
     "data": {
      "text/plain": [
       "20.149441679609886"
      ]
     },
     "execution_count": 3,
     "metadata": {},
     "output_type": "execute_result"
    }
   ],
   "source": [
    "import numpy as np\n",
    "import random \n",
    "import pandas as pd\n",
    "import math\n",
    "import matplotlib.pyplot as plt\n",
    "\n",
    "class RandomWalk:\n",
    "    def __init__ (self):\n",
    "        self.x=0\n",
    "        self.y=0\n",
    "        self.z=0\n",
    "        self.xlist=[]\n",
    "        self.ylist=[]\n",
    "        self.zlist=[]\n",
    "        self.steps=0\n",
    "        self.locationFromOrigin=0\n",
    "        self.CurrPosition_x=0\n",
    "        self.CurrPosition_y=0\n",
    "        self.CurrPosition_z=0\n",
    "        \n",
    "    def get_x(self):\n",
    "        return self.x\n",
    "    \n",
    "    def get_y(self):\n",
    "        return self.y\n",
    "    \n",
    "    def get_z(self):\n",
    "        return self.z\n",
    "    \n",
    "    def get_steps(self):\n",
    "        return self.steps\n",
    "    \n",
    "    def get_location(self):\n",
    "        return self.locationFromOrigin\n",
    "    \n",
    "    def move(self,steps):\n",
    "        Possibilities=[1,0,-1]\n",
    "        for i in range(steps):\n",
    "            self.x=self.x+random.choice(Possibilities)\n",
    "            self.xlist.append(self.x)\n",
    "            self.y=self.y+random.choice(Possibilities)\n",
    "            self.ylist.append(self.y)\n",
    "            self.z=self.z+random.choice(Possibilities)\n",
    "            self.zlist.append(self.z)\n",
    "        return(self.x,self.y,self.z)\n",
    "        \n",
    "    \n",
    "    def location(self,Origin=0):\n",
    "        self.CurrPosition_x=self.x\n",
    "        self.CurrPosition_y=self.y\n",
    "        self.CurrPosition_z=self.z\n",
    "        self.locationFromOrigin=math.sqrt((self.CurrPosition_x-0)**2+(self.CurrPosition_y-0)**2+(self.CurrPosition_z-0)**2)\n",
    "        return self.locationFromOrigin\n",
    "    \n",
    "Drunk=RandomWalk()\n",
    "print(Drunk.move(100))\n",
    "Drunk.location()\n",
    "\n",
    "   \n",
    "        "
   ]
  }
 ],
 "metadata": {
  "kernelspec": {
   "display_name": "Python 3",
   "language": "python",
   "name": "python3"
  },
  "language_info": {
   "codemirror_mode": {
    "name": "ipython",
    "version": 3
   },
   "file_extension": ".py",
   "mimetype": "text/x-python",
   "name": "python",
   "nbconvert_exporter": "python",
   "pygments_lexer": "ipython3",
   "version": "3.6.1"
  }
 },
 "nbformat": 4,
 "nbformat_minor": 2
}

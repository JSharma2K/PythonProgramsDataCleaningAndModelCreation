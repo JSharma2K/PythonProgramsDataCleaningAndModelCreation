{
 "cells": [
  {
   "cell_type": "code",
   "execution_count": 4,
   "metadata": {
    "collapsed": true
   },
   "outputs": [],
   "source": [
    "import random\n",
    "import numpy as np\n",
    "import matplotlib.pyplot as plt\n",
    "import pandas as pd"
   ]
  },
  {
   "cell_type": "code",
   "execution_count": 1,
   "metadata": {},
   "outputs": [
    {
     "ename": "SyntaxError",
     "evalue": "invalid syntax (<ipython-input-1-ac62a6727c6f>, line 4)",
     "output_type": "error",
     "traceback": [
      "\u001b[1;36m  File \u001b[1;32m\"<ipython-input-1-ac62a6727c6f>\"\u001b[1;36m, line \u001b[1;32m4\u001b[0m\n\u001b[1;33m    df = pd.DataFrame(\u001b[0m\n\u001b[1;37m     ^\u001b[0m\n\u001b[1;31mSyntaxError\u001b[0m\u001b[1;31m:\u001b[0m invalid syntax\n"
     ]
    }
   ],
   "source": [
    "\n"
   ]
  },
  {
   "cell_type": "code",
   "execution_count": 7,
   "metadata": {},
   "outputs": [
    {
     "data": {
      "text/html": [
       "<div>\n",
       "<style>\n",
       "    .dataframe thead tr:only-child th {\n",
       "        text-align: right;\n",
       "    }\n",
       "\n",
       "    .dataframe thead th {\n",
       "        text-align: left;\n",
       "    }\n",
       "\n",
       "    .dataframe tbody tr th {\n",
       "        vertical-align: top;\n",
       "    }\n",
       "</style>\n",
       "<table border=\"1\" class=\"dataframe\">\n",
       "  <thead>\n",
       "    <tr style=\"text-align: right;\">\n",
       "      <th></th>\n",
       "      <th>10</th>\n",
       "      <th>100</th>\n",
       "      <th>1000</th>\n",
       "      <th>10000</th>\n",
       "      <th>100000</th>\n",
       "      <th>1000000</th>\n",
       "    </tr>\n",
       "  </thead>\n",
       "  <tbody>\n",
       "    <tr>\n",
       "      <th>ratio</th>\n",
       "      <td>1.0</td>\n",
       "      <td>0.886792</td>\n",
       "      <td>0.923077</td>\n",
       "      <td>0.982554</td>\n",
       "      <td>1.003406</td>\n",
       "      <td>1.001601</td>\n",
       "    </tr>\n",
       "  </tbody>\n",
       "</table>\n",
       "</div>"
      ],
      "text/plain": [
       "        10       100      1000     10000    100000   1000000\n",
       "ratio  1.0  0.886792  0.923077  0.982554  1.003406  1.001601"
      ]
     },
     "execution_count": 7,
     "metadata": {},
     "output_type": "execute_result"
    }
   ],
   "source": [
    "class coin:\n",
    "    def __init__(self):\n",
    "        self.heads=0\n",
    "        self.tails=0\n",
    "        self.count=0\n",
    "    def coinToss(self,numTosses):\n",
    "        while self.count<numTosses:\n",
    "            Toss=random.randint(0,1)\n",
    "            if Toss==1:\n",
    "                self.heads+=1\n",
    "            else:\n",
    "                    self.tails+=1 \n",
    "            self.count+=1\n",
    "        ProbHeads=self.heads/self.count\n",
    "        ProbTails=self.tails/self.count \n",
    "        TotalProb=ProbHeads/ProbTails\n",
    "        return (TotalProb)\n",
    "        \n",
    "            \n",
    "        \n",
    "Coin=coin()\n",
    "\n",
    "df = pd.DataFrame(\n",
    "{\"10\" : [Coin.coinToss(10)],\"100\" : [Coin.coinToss(100)],\"1000\" :[Coin.coinToss(1000)],\"10000\" :[Coin.coinToss(10000)],\"100000\" :[Coin.coinToss(100000)],\"1000000\" :[Coin.coinToss(1000000)] },index=[\"ratio\"])\n",
    "\n",
    "df\n",
    "\n",
    "\n",
    "\n"
   ]
  }
 ],
 "metadata": {
  "kernelspec": {
   "display_name": "Python 3",
   "language": "python",
   "name": "python3"
  },
  "language_info": {
   "codemirror_mode": {
    "name": "ipython",
    "version": 3
   },
   "file_extension": ".py",
   "mimetype": "text/x-python",
   "name": "python",
   "nbconvert_exporter": "python",
   "pygments_lexer": "ipython3",
   "version": "3.6.1"
  }
 },
 "nbformat": 4,
 "nbformat_minor": 2
}

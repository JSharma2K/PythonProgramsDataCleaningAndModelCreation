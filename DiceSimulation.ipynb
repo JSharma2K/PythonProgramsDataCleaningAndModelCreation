{
 "cells": [
  {
   "cell_type": "code",
   "execution_count": 2,
   "metadata": {
    "scrolled": true
   },
   "outputs": [
    {
     "name": "stdout",
     "output_type": "stream",
     "text": [
      "{1: 0, 2: 0, 3: 0, 4: 0, 5: 0, 6: 0}\n",
      "{1: 1634, 2: 1665, 3: 1665, 4: 1687, 5: 1705, 6: 1644}\n",
      "{1: 0.1634, 2: 0.1665, 3: 0.1665, 4: 0.1687, 5: 0.1705, 6: 0.1644}\n"
     ]
    }
   ],
   "source": [
    "\n",
    "import numpy as np\n",
    "import random\n",
    "ProbDict={1:0,2:0,3:0,4:0,5:0,6:0}\n",
    "Choices=[1,2,3,4,5,6]\n",
    "print(ProbDict)\n",
    "for i in range (10000):\n",
    "    DieNumber=random.choice(Choices)\n",
    "    if DieNumber==1:\n",
    "        ProbDict[1]+=1\n",
    "    elif DieNumber==2:\n",
    "        ProbDict[2]+=1\n",
    "    elif DieNumber==3:\n",
    "        ProbDict[3]+=1\n",
    "    elif DieNumber==4:\n",
    "        ProbDict[4]+=1\n",
    "    elif DieNumber==5:\n",
    "        ProbDict[5]+=1\n",
    "    else:\n",
    "        ProbDict[6]+=1\n",
    "print(ProbDict)\n",
    "        \n",
    "for i in range(1,7):\n",
    "    ProbDict[i]=(ProbDict[i])/10000\n",
    "print(ProbDict)\n",
    "\n"
   ]
  },
  {
   "cell_type": "code",
   "execution_count": 4,
   "metadata": {},
   "outputs": [
    {
     "name": "stdout",
     "output_type": "stream",
     "text": [
      "[0.      0.02766 0.05502 0.08441 0.11226 0.13841 0.16671 0.1383  0.10944\n",
      " 0.08424 0.05575 0.0278 ]\n"
     ]
    }
   ],
   "source": [
    "Arrays=np.zeros(12)\n",
    "for i in range(100000):\n",
    "    Die1=np.random.randint(1,7)\n",
    "    Die2=np.random.randint(1,7)\n",
    "    Sum=Die1+Die2\n",
    "    #print(Sum)\n",
    "    \n",
    "    \n",
    "    for i in range(2,13):\n",
    "        if i==Sum:\n",
    "            Arrays[i-1]+=1\n",
    "        #print(Arrays)\n",
    "\n",
    "\n",
    "for i in range(2,13):\n",
    "    Arrays[i-1]=Arrays[i-1]/100000\n",
    "print(Arrays)\n",
    "        "
   ]
  },
  {
   "cell_type": "code",
   "execution_count": null,
   "metadata": {
    "collapsed": true
   },
   "outputs": [],
   "source": []
  }
 ],
 "metadata": {
  "kernelspec": {
   "display_name": "Python 3",
   "language": "python",
   "name": "python3"
  },
  "language_info": {
   "codemirror_mode": {
    "name": "ipython",
    "version": 3
   },
   "file_extension": ".py",
   "mimetype": "text/x-python",
   "name": "python",
   "nbconvert_exporter": "python",
   "pygments_lexer": "ipython3",
   "version": "3.6.1"
  }
 },
 "nbformat": 4,
 "nbformat_minor": 2
}
